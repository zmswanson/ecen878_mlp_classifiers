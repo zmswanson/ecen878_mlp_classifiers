{
 "cells": [
  {
   "cell_type": "markdown",
   "metadata": {},
   "source": [
    "# Assignment 3, Part B\n",
    "Design a Multi-Layer Perceptron (MLP) neural network model to achieve optimal performance on the\n",
    "CIFAR-10 (Canadian Institute For Advanced Research) dataset. Optimal performance determined by\n",
    "model's ability to correctly classify 10 different objects provided a small image of the object.\n",
    "\n",
    "### CIFAR-10 (Canadian Institute For Advanced Research) Dataset\n",
    "Set of 60,000 small color images representing 10 different object classes including airplanes, cars, \n",
    "birds, cats, deer, dogs, frogs, horses, ships, and trucks. The classes are uniformly distributed\n",
    "with 6,000 images for each class.\n",
    "\n",
    "##### Source:\n",
    "- Data loaded directly using the Keras API: https://keras.io/api/datasets/cifar10/\n",
    "- The train set contains 50,000 images, and the test set contains 10,000 images.\n",
    "\n",
    "##### Input variables:\n",
    "- 32x32=1,024 color pixels (i.e. 3 color channels)\n",
    "\n",
    "##### Output variable: \n",
    "- Class label (1 of 10 classes)\n",
    "    - (0) airplane\n",
    "    - (1) automobile\n",
    "    - (2) bird\n",
    "    - (3) cat\n",
    "    - (4) deer\n",
    "    - (5) dog\n",
    "    - (6) frog\n",
    "    - (7) horse\n",
    "    - (8) ship\n",
    "    - (9) truck\n"
   ]
  },
  {
   "cell_type": "code",
   "execution_count": null,
   "metadata": {},
   "outputs": [],
   "source": [
    "import tensorflow as tf"
   ]
  },
  {
   "cell_type": "code",
   "execution_count": null,
   "metadata": {},
   "outputs": [],
   "source": [
    "import numpy as np\n",
    "import matplotlib.pyplot as plt\n",
    "from sklearn.model_selection import train_test_split\n",
    "from sklearn.metrics import confusion_matrix, accuracy_score, classification_report, roc_curve"
   ]
  },
  {
   "cell_type": "markdown",
   "metadata": {},
   "source": [
    "## Load Data & Display Dataset Information"
   ]
  },
  {
   "cell_type": "code",
   "execution_count": null,
   "metadata": {},
   "outputs": [],
   "source": [
    "# Load the CIFAR-10 dataset using Keras\n",
    "cifar10 = tf.keras.datasets.cifar10\n",
    "(x_train, y_train), (x_test, y_test) = cifar10.load_data()\n",
    "\n",
    "# Show the shape of the datasets\n",
    "print(\"x_train shape:\", x_train.shape)\n",
    "print(\"y_train shape:\", y_train.shape)\n",
    "print(\"x_test shape:\", x_test.shape)\n",
    "print(\"y_test shape:\", y_test.shape)\n",
    "\n",
    "# Print the minimum and maximum values of the training data\n",
    "print(\"x_train Min:\", np.min(x_train))\n",
    "print(\"x_train Max:\", np.max(x_train))\n",
    "print(\"y_train Min:\", np.min(y_train))\n",
    "print(\"y_train Max:\", np.max(y_train))\n",
    "\n",
    "print(\"x_train dtype:\", x_train.dtype)\n",
    "print(\"y_train dtype:\", y_train.dtype)"
   ]
  },
  {
   "cell_type": "code",
   "execution_count": null,
   "metadata": {},
   "outputs": [],
   "source": [
    "# Print the number of samples for each class\n",
    "for i in range(10):\n",
    "    print(\"Training (\", i, \") - \", np.sum(y_train == i), \"; Test (\", i, \") - \", np.sum(y_test == i))\n",
    "\n",
    "# Display the first training image for each class\n",
    "plt.figure(figsize=(10, 1))\n",
    "for i in range(10):\n",
    "    plt.subplot(1, 10, i+1)\n",
    "    plt.imshow(x_train[y_train == i][0], cmap='gray')\n",
    "    plt.axis('off')"
   ]
  },
  {
   "cell_type": "markdown",
   "metadata": {},
   "source": [
    "## Data Pre-processing\n"
   ]
  },
  {
   "cell_type": "code",
   "execution_count": null,
   "metadata": {},
   "outputs": [],
   "source": [
    "# Normalize the input data\n",
    "x_train, x_test = x_train / 255.0, x_test / 255.0\n",
    "\n",
    "print(\"x_train Min:\", np.min(x_train))\n",
    "print(\"x_train Max:\", np.max(x_train))\n",
    "print(\"x_train dtype:\", x_train.dtype)"
   ]
  },
  {
   "cell_type": "code",
   "execution_count": null,
   "metadata": {},
   "outputs": [],
   "source": []
  },
  {
   "cell_type": "markdown",
   "metadata": {},
   "source": [
    "## Data Analysis"
   ]
  },
  {
   "cell_type": "code",
   "execution_count": null,
   "metadata": {},
   "outputs": [],
   "source": []
  },
  {
   "cell_type": "markdown",
   "metadata": {},
   "source": [
    "## Create Data Matrix X and Target y"
   ]
  },
  {
   "cell_type": "code",
   "execution_count": null,
   "metadata": {},
   "outputs": [],
   "source": []
  },
  {
   "cell_type": "markdown",
   "metadata": {},
   "source": [
    "## Partition the Dataset into Train & Test Subsets"
   ]
  },
  {
   "cell_type": "code",
   "execution_count": null,
   "metadata": {},
   "outputs": [],
   "source": []
  },
  {
   "cell_type": "markdown",
   "metadata": {},
   "source": [
    "## Standardize the Data"
   ]
  },
  {
   "cell_type": "code",
   "execution_count": null,
   "metadata": {},
   "outputs": [],
   "source": []
  },
  {
   "cell_type": "markdown",
   "metadata": {},
   "source": [
    "## Model Selection"
   ]
  },
  {
   "cell_type": "code",
   "execution_count": null,
   "metadata": {},
   "outputs": [],
   "source": [
    "%%time\n",
    "\n"
   ]
  },
  {
   "cell_type": "markdown",
   "metadata": {},
   "source": [
    "## Train a Model Using Optimal Hyperparameters"
   ]
  },
  {
   "cell_type": "code",
   "execution_count": null,
   "metadata": {},
   "outputs": [],
   "source": [
    "%%time"
   ]
  },
  {
   "cell_type": "markdown",
   "metadata": {},
   "source": [
    "## Evaluate the Model "
   ]
  },
  {
   "cell_type": "code",
   "execution_count": null,
   "metadata": {},
   "outputs": [],
   "source": [
    "%%time\n",
    "\n"
   ]
  }
 ],
 "metadata": {
  "kernelspec": {
   "display_name": "Python 3 (ipykernel)",
   "language": "python",
   "name": "python3"
  },
  "language_info": {
   "codemirror_mode": {
    "name": "ipython",
    "version": 3
   },
   "file_extension": ".py",
   "mimetype": "text/x-python",
   "name": "python",
   "nbconvert_exporter": "python",
   "pygments_lexer": "ipython3",
   "version": "3.9.6"
  }
 },
 "nbformat": 4,
 "nbformat_minor": 2
}
