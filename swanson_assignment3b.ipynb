{
 "cells": [
  {
   "cell_type": "markdown",
   "metadata": {},
   "source": [
    "# Assignment 3, Part B\n",
    "Design a Multi-Layer Perceptron (MLP) neural network model to achieve optimal performance on the\n",
    "CIFAR-10 (Canadian Institute For Advanced Research) dataset. Optimal performance determined by\n",
    "model's ability to correctly classify 10 different objects provided a small image of the object.\n",
    "\n",
    "### CIFAR-10 (Canadian Institute For Advanced Research) Dataset\n",
    "Set of 60,000 small color images representing 10 different object classes including airplanes, cars, \n",
    "birds, cats, deer, dogs, frogs, horses, ships, and trucks. The classes are uniformly distributed\n",
    "with 6,000 images for each class.\n",
    "\n",
    "##### Source:\n",
    "- Data loaded directly using the Keras API: https://keras.io/api/datasets/cifar10/\n",
    "- The train set contains 50,000 images, and the test set contains 10,000 images.\n",
    "\n",
    "##### Input variables:\n",
    "- 32x32=1,024 color pixels (i.e. 3 color channels)\n",
    "\n",
    "##### Output variable: \n",
    "- Class label (1 of 10 classes)\n",
    "    - (0) airplane\n",
    "    - (1) automobile\n",
    "    - (2) bird\n",
    "    - (3) cat\n",
    "    - (4) deer\n",
    "    - (5) dog\n",
    "    - (6) frog\n",
    "    - (7) horse\n",
    "    - (8) ship\n",
    "    - (9) truck\n"
   ]
  },
  {
   "cell_type": "code",
   "execution_count": null,
   "metadata": {},
   "outputs": [],
   "source": [
    "# Import python modules\n",
    "# For example, import pandas as pd\n",
    "\n"
   ]
  },
  {
   "cell_type": "markdown",
   "metadata": {},
   "source": [
    "## Load Data & Displat Dataset Information"
   ]
  },
  {
   "cell_type": "code",
   "execution_count": null,
   "metadata": {},
   "outputs": [],
   "source": [
    "# Single line comments on a code block should be added by using the pound/hash sign shown in this comment\n",
    "\n",
    "'''\n",
    "Multi-line comments should be added \n",
    "using the syntax shown in this two-line comment\n",
    "'''\n"
   ]
  },
  {
   "cell_type": "markdown",
   "metadata": {},
   "source": [
    "## Data Pre-processing\n"
   ]
  },
  {
   "cell_type": "code",
   "execution_count": null,
   "metadata": {},
   "outputs": [],
   "source": []
  },
  {
   "cell_type": "markdown",
   "metadata": {},
   "source": [
    "## Data Analysis"
   ]
  },
  {
   "cell_type": "code",
   "execution_count": null,
   "metadata": {},
   "outputs": [],
   "source": []
  },
  {
   "cell_type": "markdown",
   "metadata": {},
   "source": [
    "## Create Data Matrix X and Target y"
   ]
  },
  {
   "cell_type": "code",
   "execution_count": null,
   "metadata": {},
   "outputs": [],
   "source": []
  },
  {
   "cell_type": "markdown",
   "metadata": {},
   "source": [
    "## Partition the Dataset into Train & Test Subsets"
   ]
  },
  {
   "cell_type": "code",
   "execution_count": null,
   "metadata": {},
   "outputs": [],
   "source": []
  },
  {
   "cell_type": "markdown",
   "metadata": {},
   "source": [
    "## Standardize the Data"
   ]
  },
  {
   "cell_type": "code",
   "execution_count": null,
   "metadata": {},
   "outputs": [],
   "source": []
  },
  {
   "cell_type": "markdown",
   "metadata": {},
   "source": [
    "## Model Selection"
   ]
  },
  {
   "cell_type": "code",
   "execution_count": null,
   "metadata": {},
   "outputs": [],
   "source": [
    "%%time\n",
    "\n"
   ]
  },
  {
   "cell_type": "markdown",
   "metadata": {},
   "source": [
    "## Train a Model Using Optimal Hyperparameters"
   ]
  },
  {
   "cell_type": "code",
   "execution_count": null,
   "metadata": {},
   "outputs": [],
   "source": [
    "%%time"
   ]
  },
  {
   "cell_type": "markdown",
   "metadata": {},
   "source": [
    "## Evaluate the Model "
   ]
  },
  {
   "cell_type": "code",
   "execution_count": null,
   "metadata": {},
   "outputs": [],
   "source": [
    "%%time\n",
    "\n"
   ]
  }
 ],
 "metadata": {
  "kernelspec": {
   "display_name": "Python 3 (ipykernel)",
   "language": "python",
   "name": "python3"
  },
  "language_info": {
   "codemirror_mode": {
    "name": "ipython",
    "version": 3
   },
   "file_extension": ".py",
   "mimetype": "text/x-python",
   "name": "python",
   "nbconvert_exporter": "python",
   "pygments_lexer": "ipython3",
   "version": "3.9.6"
  }
 },
 "nbformat": 4,
 "nbformat_minor": 2
}
